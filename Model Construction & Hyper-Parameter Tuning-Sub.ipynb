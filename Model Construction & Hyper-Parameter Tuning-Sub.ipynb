{
 "cells": [
  {
   "cell_type": "code",
   "execution_count": 1,
   "id": "3795cd34",
   "metadata": {},
   "outputs": [],
   "source": [
    "from gensim.models import Word2Vec\n",
    "import gensim.downloader as api\n",
    "from pathlib import Path\n",
    "import os"
   ]
  },
  {
   "cell_type": "code",
   "execution_count": 2,
   "id": "cadf07ca",
   "metadata": {},
   "outputs": [
    {
     "name": "stderr",
     "output_type": "stream",
     "text": [
      "2023-09-24 16:41:26.273308: I tensorflow/tsl/cuda/cudart_stub.cc:28] Could not find cuda drivers on your machine, GPU will not be used.\n",
      "2023-09-24 16:41:26.380339: I tensorflow/tsl/cuda/cudart_stub.cc:28] Could not find cuda drivers on your machine, GPU will not be used.\n",
      "2023-09-24 16:41:26.381154: I tensorflow/core/platform/cpu_feature_guard.cc:182] This TensorFlow binary is optimized to use available CPU instructions in performance-critical operations.\n",
      "To enable the following instructions: AVX2 FMA, in other operations, rebuild TensorFlow with the appropriate compiler flags.\n",
      "2023-09-24 16:41:26.998626: W tensorflow/compiler/tf2tensorrt/utils/py_utils.cc:38] TF-TRT Warning: Could not find TensorRT\n"
     ]
    },
    {
     "name": "stdout",
     "output_type": "stream",
     "text": [
      "Using TensorFlow backend\n"
     ]
    },
    {
     "name": "stderr",
     "output_type": "stream",
     "text": [
      "/tmp/ipykernel_3353/1736333401.py:5: DeprecationWarning: `import kerastuner` is deprecated, please use `import keras_tuner`.\n",
      "  from kerastuner.tuners import RandomSearch\n",
      "[nltk_data] Downloading package stopwords to /home/paula/nltk_data...\n",
      "[nltk_data]   Package stopwords is already up-to-date!\n"
     ]
    }
   ],
   "source": [
    "import tensorflow as tf\n",
    "from tensorflow.keras.models import Model\n",
    "from tensorflow.keras.optimizers import Adam\n",
    "from kerastuner.tuners import RandomSearch\n",
    "import numpy as np\n",
    "import re\n",
    "from keras.preprocessing.text import one_hot, Tokenizer\n",
    "from nltk.stem import WordNetLemmatizer\n",
    "import nltk\n",
    "from nltk.corpus import stopwords\n",
    "import tensorflow\n",
    "from io import StringIO\n",
    "import pandas as pd\n",
    "import numpy as np \n",
    "import keras\n",
    "import re\n",
    "import nltk\n",
    "from nltk.corpus import stopwords\n",
    "from nltk.corpus import wordnet as wn\n",
    "from nltk.stem import WordNetLemmatizer\n",
    "from numpy import array\n",
    "from keras.preprocessing.text import one_hot, Tokenizer \n",
    "from keras.utils import pad_sequences \n",
    "from keras.models import Sequential, Model\n",
    "from keras.layers import Flatten, Input, Concatenate, GlobalMaxPooling1D, Embedding, Conv1D, LSTM, GRU, MultiHeadAttention, Add, Bidirectional,  Activation, Dropout, Dense, GRU\n",
    "from tensorflow.keras.callbacks import ModelCheckpoint, EarlyStopping\n",
    "from sklearn.model_selection import train_test_split\n",
    "import tensorflow.keras.backend as K\n",
    "import seaborn as sns\n",
    "import nltk\n",
    "from numpy import asarray\n",
    "from numpy import zeros\n",
    "from keras.layers import Conv1D\n",
    "from keras.layers import LSTM\n",
    "import json\n",
    "from keras.optimizers import Adam\n",
    "from tensorflow.keras.utils import serialize_keras_object\n",
    "from tensorflow.keras import utils\n",
    "from tensorflow.keras.models import clone_model, Sequential\n",
    "from tensorflow.keras.layers import Dense, Flatten\n",
    "import joblib\n",
    "from keras.models import load_model\n",
    "import matplotlib.pyplot as plt\n",
    "from sklearn import metrics\n",
    "from sklearn.metrics import roc_auc_score\n",
    "lemmatizer = WordNetLemmatizer()\n",
    "text_tokenizer = nltk.RegexpTokenizer(r\"\\w+\")\n",
    "\n",
    "nltk.download('stopwords')\n",
    "stop_words = set(stopwords.words('english'))\n",
    "\n",
    "from nltk.corpus import wordnet\n",
    "\n"
   ]
  },
  {
   "cell_type": "code",
   "execution_count": 3,
   "id": "129c0ecc",
   "metadata": {},
   "outputs": [],
   "source": [
    "import pandas as pd\n",
    "import numpy as np\n",
    "import seaborn as sns"
   ]
  },
  {
   "cell_type": "markdown",
   "id": "0214a118",
   "metadata": {},
   "source": [
    "## Load in training data"
   ]
  },
  {
   "cell_type": "code",
   "execution_count": 4,
   "id": "0cc8f0f0",
   "metadata": {
    "scrolled": true
   },
   "outputs": [],
   "source": [
    "import os\n",
    "current_dir = os.getcwd()\n",
    "relative_path = 'Dataset/fin_news_optimized_6.csv'\n",
    "file_path = os.path.join(current_dir, relative_path)\n",
    "\n",
    "fin_news_1 = pd.read_csv(file_path)"
   ]
  },
  {
   "cell_type": "code",
   "execution_count": 5,
   "id": "460df828",
   "metadata": {},
   "outputs": [
    {
     "data": {
      "text/plain": [
       "<Axes: xlabel='labels', ylabel='count'>"
      ]
     },
     "execution_count": 5,
     "metadata": {},
     "output_type": "execute_result"
    },
    {
     "data": {
      "image/png": "[encoded data removed]",
      "text/plain": [
       "<Figure size 640x480 with 1 Axes>"
      ]
     },
     "metadata": {},
     "output_type": "display_data"
    }
   ],
   "source": [
    "sns.countplot(x='labels', data=fin_news_1)"
   ]
  },
  {
   "cell_type": "markdown",
   "id": "1f4f5a85",
   "metadata": {},
   "source": [
    "## Load text embedding"
   ]
  },
  {
   "cell_type": "code",
   "execution_count": 6,
   "id": "5735cfc9",
   "metadata": {},
   "outputs": [],
   "source": [
    "rel_embedding_folder_path = 'Word embedings/FinText_Word2Vec_CBOW/Word_Embedding_2000_2015'\n",
    "embedding_folder_path = os.path.join(current_dir, rel_embedding_folder_path)\n",
    "\n",
    "FinText_Word2Vec_cbow = Word2Vec.load(embedding_folder_path)"
   ]
  },
  {
   "cell_type": "markdown",
   "id": "fa4d5afa",
   "metadata": {},
   "source": [
    "## Pre-processing data"
   ]
  },
  {
   "cell_type": "code",
   "execution_count": 7,
   "id": "93c26050",
   "metadata": {},
   "outputs": [],
   "source": [
    "def preprocess_sentence(text_):\n",
    "\n",
    "    # Remove links, mentions     \n",
    "    # reduce all text to lower case\n",
    "    text_ = text_.lower()\n",
    "\n",
    "    #Remove mentions\n",
    "    text_ = re.sub('@\\S+', ' ', text_)\n",
    "    \n",
    "    #Remove any links\n",
    "    text_ = re.sub('https?:\\S+|http?:\\S', ' ', text_)\n",
    "    \n",
    "    # Remove puntuations and numbers\n",
    "    text_ = re.sub('[^a-zA-Z]', ' ', text_)\n",
    "\n",
    "    # Single character removal \n",
    "    text_ = re.sub(r\"\\s+[a-zA-z]\\s+\", ' ', text_)\n",
    "\n",
    "    # Remove multiple spaces\n",
    "    text_ = re.sub(r'\\s+', ' ', text_)\n",
    "    \n",
    "    # Lematize\n",
    "#     tokens_result = tokenizer.tokenize(tweet_)\n",
    "#     pos_tuple_list = nltk.pos_tag(tokens_result)\n",
    "#     POS_TRANSLATED = \n",
    "#     POS_TRANS()\n",
    "#     lemmatized_tokens = [lemmatizer.lemmatize(t) for t in tokens_result]\n",
    "\n",
    "#     combined_sentence = \" \".join(lemmatized_tokens)\n",
    "#     pattern_ = re.compile(r'\\b(' + r'|'.join(stop_words) + r')\\b\\s*')\n",
    "#     tweet_ = pattern_.sub('', tweet_)\n",
    "\n",
    "    return text_\n",
    "\n",
    "\n",
    "def Xtrain_pre_processing(x_feature):\n",
    "    feature = []\n",
    "    text_ = list(x_feature)\n",
    "    for txt in text_:\n",
    "        sent = preprocess_sentence(txt)\n",
    "#         sent = clean_text(txt)\n",
    "        \n",
    "#         extr_con_val = extract_concept_value_pairs(sent)\n",
    "        feature.append(sent)\n",
    "    return feature\n"
   ]
  },
  {
   "cell_type": "code",
   "execution_count": 8,
   "id": "cdf26ee5",
   "metadata": {},
   "outputs": [],
   "source": [
    "X = Xtrain_pre_processing(fin_news_1['sentence'])\n",
    "fin_news_1['labels'] = fin_news_1['labels'].astype(int)\n",
    "y = fin_news_1['labels']"
   ]
  },
  {
   "cell_type": "code",
   "execution_count": 9,
   "id": "6bfcfbda",
   "metadata": {},
   "outputs": [],
   "source": [
    "X0_train, X0_test, y0_train, y0_test =  train_test_split(X, y, test_size = 0.25, random_state = 42)"
   ]
  },
  {
   "cell_type": "markdown",
   "id": "32e4f8b6",
   "metadata": {},
   "source": [
    "## Preparing the Embedding Layer"
   ]
  },
  {
   "cell_type": "code",
   "execution_count": 10,
   "id": "ae2aa961",
   "metadata": {},
   "outputs": [
    {
     "data": {
      "text/plain": [
       "13218"
      ]
     },
     "execution_count": 10,
     "metadata": {},
     "output_type": "execute_result"
    }
   ],
   "source": [
    "word_tokenizer = Tokenizer()\n",
    "\n",
    "word_tokenizer.fit_on_texts(X0_train)\n",
    "\n",
    "vocab_size = len(word_tokenizer.word_index) + 1\n",
    "vocab_size"
   ]
  },
  {
   "cell_type": "code",
   "execution_count": 11,
   "id": "eabccef8",
   "metadata": {},
   "outputs": [],
   "source": [
    "#  This function prepares the embedding layer for our NN, it takes in the feature input and returns a tokenized array with padding \n",
    "def prep_embedding_layer(feature_, posit_of_padd_, max_padd_len):\n",
    "\n",
    "\n",
    "    feature_ = word_tokenizer.texts_to_sequences(feature_)\n",
    "\n",
    "    feature_ = pad_sequences(feature_, padding=posit_of_padd_, maxlen=max_padd_len, truncating='post')\n",
    "    \n",
    "    return feature_"
   ]
  },
  {
   "cell_type": "code",
   "execution_count": 12,
   "id": "bc949af7",
   "metadata": {},
   "outputs": [],
   "source": [
    "max_length_ = FinText_Word2Vec_cbow.wv['word'].shape[0]"
   ]
  },
  {
   "cell_type": "code",
   "execution_count": 13,
   "id": "72ec023c",
   "metadata": {},
   "outputs": [],
   "source": [
    "X0_train_emb = prep_embedding_layer(X0_train, 'post', max_length_)\n",
    "X0_test_emb = prep_embedding_layer(X0_test, 'post', max_length_)"
   ]
  },
  {
   "cell_type": "code",
   "execution_count": 14,
   "id": "cee72450",
   "metadata": {},
   "outputs": [],
   "source": [
    "y0_train_OHE =  tensorflow.keras.utils.to_categorical(y0_train, num_classes=3)\n",
    "y0_test_OHE =  tensorflow.keras.utils.to_categorical(y0_test, num_classes=3)"
   ]
  },
  {
   "cell_type": "code",
   "execution_count": 15,
   "id": "a73a6b8d",
   "metadata": {},
   "outputs": [
    {
     "data": {
      "text/plain": [
       "'ragutis which is controlled by the finnish brewery reported per cent rise in beer sales to million litres and held an per cent market share '"
      ]
     },
     "execution_count": 15,
     "metadata": {},
     "output_type": "execute_result"
    }
   ],
   "source": [
    "X0_train[0]"
   ]
  },
  {
   "cell_type": "code",
   "execution_count": 16,
   "id": "3e760c67",
   "metadata": {},
   "outputs": [
    {
     "name": "stdout",
     "output_type": "stream",
     "text": [
      "((6570, 300), (2191, 300))\n"
     ]
    }
   ],
   "source": [
    "print((X0_train_emb.shape, X0_test_emb.shape ))"
   ]
  },
  {
   "cell_type": "markdown",
   "id": "56bfa0f8",
   "metadata": {},
   "source": [
    "## Loading Embeddings"
   ]
  },
  {
   "cell_type": "code",
   "execution_count": 17,
   "id": "6b3cbb05",
   "metadata": {},
   "outputs": [
    {
     "data": {
      "text/plain": [
       "array([-4.51023722e+00,  1.17607497e-01, -3.27431154e+00, -1.40505934e+00,\n",
       "        3.14249486e-01, -2.11920306e-01, -1.72016072e+00,  5.37094593e-01,\n",
       "       -3.95378494e+00, -6.92856669e-01,  3.50354123e+00,  1.49054599e+00,\n",
       "       -5.58598340e-01,  1.12996578e+00,  6.63641632e-01, -3.05580044e+00,\n",
       "        6.20447874e-01, -5.44819355e-01,  6.96304560e-01, -2.11278439e+00,\n",
       "       -3.76779675e+00, -1.73961878e+00,  4.93319809e-01, -3.14829081e-01,\n",
       "        6.86451256e-01,  1.52364194e+00, -2.00060591e-01,  3.86532307e-01,\n",
       "       -1.53610408e-01, -1.77160883e+00,  2.80607753e-02,  1.22032082e+00,\n",
       "       -4.16347146e-01, -9.62410450e-01, -2.11797404e+00,  6.27330422e-01,\n",
       "       -1.75154424e+00, -8.21619749e-01, -2.29648232e+00, -8.59637201e-01,\n",
       "        4.32372332e-01,  8.03456724e-01, -2.33668518e+00,  2.31352997e+00,\n",
       "        1.22178578e+00,  1.64005601e+00, -9.44048524e-01, -2.46824786e-01,\n",
       "        1.92423868e+00,  1.32232332e+00, -3.52571368e+00,  4.44551051e-01,\n",
       "       -1.05939007e+00,  3.04650553e-02, -7.15588033e-01,  2.61523175e+00,\n",
       "       -2.54416084e+00, -8.82244885e-01, -4.29507256e+00, -1.41316426e+00,\n",
       "       -8.37500691e-01, -1.71372163e+00,  3.11681175e+00, -5.37620485e-01,\n",
       "       -1.27193642e+00, -3.11022490e-01, -8.08468223e-01,  1.09462404e+00,\n",
       "       -1.22757423e+00, -9.69285309e-01,  3.44063401e-01, -9.81773615e-01,\n",
       "        1.32208741e+00, -7.17626572e-01,  2.79795438e-01,  8.04042101e-01,\n",
       "       -6.08756602e-01,  2.17214179e+00,  4.80995744e-01,  7.62692332e-01,\n",
       "        1.22047246e+00,  7.55745351e-01,  6.63533866e-01, -1.19971347e+00,\n",
       "       -8.27958107e-01,  1.89809275e+00,  5.63063323e-02,  1.71697962e+00,\n",
       "       -1.05395541e-01,  1.01047024e-01,  2.55319548e+00, -2.03229833e+00,\n",
       "       -1.98595929e+00, -2.37577677e+00,  4.84574318e-01,  5.43094337e-01,\n",
       "       -1.45976901e+00,  1.84345973e+00, -1.65846109e+00,  1.29238093e+00,\n",
       "        1.28406572e+00,  2.04027131e-01,  1.24842978e+00,  7.38832295e-01,\n",
       "       -8.39806974e-01, -2.28516150e+00, -6.49420917e-01, -1.21864974e+00,\n",
       "        2.64367080e+00, -6.81537986e-01,  3.14666843e+00, -3.27994525e-01,\n",
       "       -8.83694351e-01, -1.23221464e-01,  9.52852845e-01,  1.36157081e-01,\n",
       "       -2.29310900e-01,  6.09345920e-02,  3.44157410e+00, -1.01809454e+00,\n",
       "       -1.37622368e+00, -5.95189452e-01, -2.91348815e+00, -1.85324788e+00,\n",
       "        1.59698391e+00,  3.50799292e-01,  1.64892018e+00, -5.81341624e-01,\n",
       "       -6.68696880e-01, -9.30685997e-01,  2.77833438e+00,  1.47883952e-01,\n",
       "        4.13498461e-01, -1.08783376e+00, -7.02332973e-01, -1.40780270e+00,\n",
       "       -9.16998923e-01, -2.40503907e-01,  1.60927558e+00, -2.62302017e+00,\n",
       "        1.98074651e+00, -1.47045553e+00,  1.35604942e+00, -1.42279422e+00,\n",
       "        1.31363595e+00,  1.92653060e+00, -1.44027412e+00,  2.56939791e-03,\n",
       "       -1.11139905e+00, -5.35564959e-01,  4.95256484e-01,  3.90874386e-01,\n",
       "       -8.65032315e-01,  1.15595949e+00, -1.31679237e+00, -1.03878224e+00,\n",
       "        8.29462036e-02, -2.20377803e-01,  1.05096281e+00,  2.36871815e+00,\n",
       "        2.01345134e+00, -7.96579838e-01,  2.53672147e+00, -4.91591072e+00,\n",
       "       -7.19654024e-01, -1.32642817e+00,  3.14295411e-01, -1.81839597e+00,\n",
       "        2.84626889e+00,  3.03280234e+00, -2.20345408e-01,  1.21719658e+00,\n",
       "        3.27533722e-01, -7.61254728e-01,  5.26496887e-01,  1.92575082e-01,\n",
       "       -7.76405573e-01,  2.86679053e+00,  1.41540438e-01, -4.89236355e+00,\n",
       "       -2.70366287e+00,  1.26607239e+00,  1.11247098e+00,  3.34898853e+00,\n",
       "        5.48305690e-01,  1.41828418e+00, -4.57440615e-01,  1.83461356e+00,\n",
       "       -8.38970363e-01,  1.53745806e+00, -1.96904087e+00,  1.30561614e+00,\n",
       "        1.89919055e-01,  1.17481613e+00,  3.61531749e-02, -3.00930798e-01,\n",
       "        7.03716040e-01, -2.31088972e+00, -6.15896285e-01,  9.92719948e-01,\n",
       "       -1.45453453e+00, -8.60633433e-01, -3.24959397e-01,  6.75276995e-01,\n",
       "       -6.59916326e-02, -1.17435503e+00,  1.32663503e-01,  3.48545283e-01,\n",
       "        1.70806944e-01, -7.55035758e-01, -2.61590809e-01,  3.29076976e-01,\n",
       "       -1.48228276e+00,  2.56102109e+00, -2.44990396e+00,  5.78301370e-01,\n",
       "        2.33688116e+00,  1.76528484e-01, -3.42371655e+00,  2.06036165e-01,\n",
       "       -7.14401603e-01,  3.09760839e-01, -2.90779054e-01,  6.54378414e-01,\n",
       "       -2.83289962e-02, -1.76340365e+00,  4.23907399e-01, -1.55047905e+00,\n",
       "       -1.41837525e+00, -9.39486027e-01,  9.70491230e-01,  5.71109951e-01,\n",
       "       -3.11863810e-01,  1.42915249e+00, -6.26664996e-01,  1.38527915e-01,\n",
       "        7.21974730e-01,  9.51125681e-01, -2.38072157e+00, -1.00803055e-01,\n",
       "        9.30819273e-01, -2.12869406e+00, -1.09638691e+00, -3.26833636e-01,\n",
       "       -1.21340346e+00, -6.86563969e-01,  4.88097280e-01, -3.34549308e-01,\n",
       "        4.07644451e-01, -8.85631323e-01,  2.09076834e+00,  1.12192333e+00,\n",
       "        7.69183099e-01,  2.76303029e+00,  4.14502621e-01, -1.59992307e-01,\n",
       "        3.84315878e-01, -1.12327731e+00, -6.99052274e-01,  3.04018474e+00,\n",
       "       -9.69258964e-01,  1.15672207e+00,  1.15110052e+00,  1.05599821e+00,\n",
       "        5.72091866e+00,  4.42542344e-01,  2.04453945e+00,  1.90621570e-01,\n",
       "       -1.19000375e+00, -1.93878150e+00, -1.74494612e+00, -1.28869498e+00,\n",
       "       -2.36858034e+00, -2.58333707e+00,  2.94801378e+00, -1.35644650e+00,\n",
       "        9.32816327e-01, -1.01737618e+00, -6.21829450e-01,  3.70029116e+00,\n",
       "       -8.18410695e-01, -2.47501445e+00,  2.43086934e-01, -2.53806424e+00,\n",
       "        2.78361940e+00,  1.06457222e+00,  5.35750568e-01, -1.27504504e+00,\n",
       "        1.39237189e+00, -6.44773841e-01,  2.26729602e-01,  3.38879913e-01,\n",
       "       -2.80250454e+00, -4.75166328e-02,  3.36141324e+00, -1.61756301e+00,\n",
       "        2.92991161e-01,  1.93122387e+00, -1.62779415e+00,  4.26701531e-02],\n",
       "      dtype=float32)"
      ]
     },
     "execution_count": 17,
     "metadata": {},
     "output_type": "execute_result"
    }
   ],
   "source": [
    "FinText_Word2Vec_cbow.wv['hi']"
   ]
  },
  {
   "cell_type": "code",
   "execution_count": 18,
   "id": "a235fa64",
   "metadata": {},
   "outputs": [
    {
     "data": {
      "text/plain": [
       "300"
      ]
     },
     "execution_count": 18,
     "metadata": {},
     "output_type": "execute_result"
    }
   ],
   "source": [
    "len(FinText_Word2Vec_cbow.wv['amazon'])"
   ]
  },
  {
   "cell_type": "markdown",
   "id": "84fa2b46",
   "metadata": {},
   "source": [
    "Length should be == 300"
   ]
  },
  {
   "cell_type": "code",
   "execution_count": 1,
   "id": "1b644642",
   "metadata": {},
   "outputs": [],
   "source": [
    "def initialize_FinText(vocabSize, maxLength, wordInd, word_emb_model ):\n",
    "    \"\"\"\n",
    "    Initialize an embedding matrix for financial text data.\n",
    "\n",
    "    Args:\n",
    "        vocabSize (int): The size of the vocabulary.\n",
    "        maxLength (int): The maximum length of input sequences.\n",
    "        wordInd (dict): A dictionary mapping words to their indices.\n",
    "        word_emb_model (Word2Vec): A Word2Vec word embedding model.\n",
    "\n",
    "    Returns:\n",
    "        np.ndarray: An embedding matrix for the vocabulary.\n",
    "\n",
    "    This function initializes an embedding matrix for financial text data using a Word2Vec word embedding model.\n",
    "    It maps words in the vocabulary to their corresponding word vectors in the embedding model.\n",
    "    If a word is not found in the model, its corresponding row in the matrix is filled with zeros.\n",
    "\n",
    "    \"\"\"\n",
    "    matrix = np.zeros((vocabSize, maxLength))  \n",
    "    for word, i in wordInd.items():\n",
    "        if word in FinText_Word2Vec_cbow.wv: \n",
    "            vector_ = word_emb_model[word]\n",
    "            if vector_ is not None:\n",
    "                matrix[i] = vector_\n",
    "            \n",
    "    return matrix"
   ]
  },
  {
   "cell_type": "code",
   "execution_count": 20,
   "id": "eccf0284",
   "metadata": {},
   "outputs": [],
   "source": [
    "embedding_matrix = initialize_FinText(vocab_size, max_length_, word_tokenizer.word_index, FinText_Word2Vec_cbow.wv)"
   ]
  },
  {
   "cell_type": "code",
   "execution_count": 21,
   "id": "e989e2fa",
   "metadata": {},
   "outputs": [
    {
     "data": {
      "text/plain": [
       "array([[ 0.00000000e+00,  0.00000000e+00,  0.00000000e+00, ...,\n",
       "         0.00000000e+00,  0.00000000e+00,  0.00000000e+00],\n",
       "       [-3.50167179e+00,  1.21402717e+00, -4.04431677e+00, ...,\n",
       "         3.54783863e-01,  1.30911125e-03,  1.70508897e+00],\n",
       "       [-1.44555199e+00,  3.73404324e-01, -1.89970732e+00, ...,\n",
       "         3.63037825e+00,  3.83989215e+00,  1.09370947e+00],\n",
       "       ...,\n",
       "       [-5.22889048e-02,  2.71966886e-02, -1.10525861e-02, ...,\n",
       "        -4.06878963e-02, -5.63146826e-03,  5.72349057e-02],\n",
       "       [-3.15693212e+00,  1.23764314e-01, -2.07463408e+00, ...,\n",
       "        -3.86529982e-01,  2.21590805e+00, -2.57768512e+00],\n",
       "       [-1.31619895e+00, -3.45596075e-01, -5.59330761e-01, ...,\n",
       "         2.25437954e-01,  2.21739560e-01,  6.34576797e-01]])"
      ]
     },
     "execution_count": 21,
     "metadata": {},
     "output_type": "execute_result"
    }
   ],
   "source": [
    "embedding_matrix"
   ]
  },
  {
   "cell_type": "code",
   "execution_count": 22,
   "id": "fbd98fc1",
   "metadata": {},
   "outputs": [
    {
     "data": {
      "text/plain": [
       "'ragutis which is controlled by the finnish brewery reported per cent rise in beer sales to million litres and held an per cent market share '"
      ]
     },
     "execution_count": 22,
     "metadata": {},
     "output_type": "execute_result"
    }
   ],
   "source": [
    "X0_train[0]"
   ]
  },
  {
   "cell_type": "code",
   "execution_count": 23,
   "id": "dea5dd7b",
   "metadata": {},
   "outputs": [
    {
     "data": {
      "text/plain": [
       "array([2236,   51,    9, 1647,   17,    1,   28, 2571,  237,   92,  513,\n",
       "        217,    3,  885,   26,    4,   30, 2977,    5,  541,   27,   92,\n",
       "        513,   44,   47,    0,    0,    0,    0,    0,    0,    0,    0,\n",
       "          0,    0,    0,    0,    0,    0,    0,    0,    0,    0,    0,\n",
       "          0,    0,    0,    0,    0,    0,    0,    0,    0,    0,    0,\n",
       "          0,    0,    0,    0,    0,    0,    0,    0,    0,    0,    0,\n",
       "          0,    0,    0,    0,    0,    0,    0,    0,    0,    0,    0,\n",
       "          0,    0,    0,    0,    0,    0,    0,    0,    0,    0,    0,\n",
       "          0,    0,    0,    0,    0,    0,    0,    0,    0,    0,    0,\n",
       "          0,    0,    0,    0,    0,    0,    0,    0,    0,    0,    0,\n",
       "          0,    0,    0,    0,    0,    0,    0,    0,    0,    0,    0,\n",
       "          0,    0,    0,    0,    0,    0,    0,    0,    0,    0,    0,\n",
       "          0,    0,    0,    0,    0,    0,    0,    0,    0,    0,    0,\n",
       "          0,    0,    0,    0,    0,    0,    0,    0,    0,    0,    0,\n",
       "          0,    0,    0,    0,    0,    0,    0,    0,    0,    0,    0,\n",
       "          0,    0,    0,    0,    0,    0,    0,    0,    0,    0,    0,\n",
       "          0,    0,    0,    0,    0,    0,    0,    0,    0,    0,    0,\n",
       "          0,    0,    0,    0,    0,    0,    0,    0,    0,    0,    0,\n",
       "          0,    0,    0,    0,    0,    0,    0,    0,    0,    0,    0,\n",
       "          0,    0,    0,    0,    0,    0,    0,    0,    0,    0,    0,\n",
       "          0,    0,    0,    0,    0,    0,    0,    0,    0,    0,    0,\n",
       "          0,    0,    0,    0,    0,    0,    0,    0,    0,    0,    0,\n",
       "          0,    0,    0,    0,    0,    0,    0,    0,    0,    0,    0,\n",
       "          0,    0,    0,    0,    0,    0,    0,    0,    0,    0,    0,\n",
       "          0,    0,    0,    0,    0,    0,    0,    0,    0,    0,    0,\n",
       "          0,    0,    0,    0,    0,    0,    0,    0,    0,    0,    0,\n",
       "          0,    0,    0,    0,    0,    0,    0,    0,    0,    0,    0,\n",
       "          0,    0,    0], dtype=int32)"
      ]
     },
     "execution_count": 23,
     "metadata": {},
     "output_type": "execute_result"
    }
   ],
   "source": [
    "X0_train_emb[0]"
   ]
  },
  {
   "cell_type": "code",
   "execution_count": 24,
   "id": "0839b0c7",
   "metadata": {},
   "outputs": [
    {
     "name": "stdout",
     "output_type": "stream",
     "text": [
      "True\n"
     ]
    }
   ],
   "source": [
    "if embedding_matrix.shape[1] == 300:\n",
    "    print('True')\n",
    "    embedding_dim = embedding_matrix.shape[1]"
   ]
  },
  {
   "cell_type": "code",
   "execution_count": 3,
   "id": "0143a82d",
   "metadata": {},
   "outputs": [],
   "source": [
    "import pickle\n",
    "\n",
    "# file path where the tokenizer is saved to re-build the trained model\n",
    "file_path = os.path.join(current_dir, 'Tokenizers/tokenizer_bi_att_1.pkl')\n",
    "\n",
    "# Save the tokenizer to the specified file path\n",
    "with open(file_path, 'wb') as tokenizer_file:\n",
    "    pickle.dump(word_tokenizer, tokenizer_file)\n",
    "    "
   ]
  },
  {
   "cell_type": "markdown",
   "id": "f03f9019",
   "metadata": {},
   "source": [
    "## Create Model"
   ]
  },
  {
   "cell_type": "markdown",
   "id": "8e4c5cbf",
   "metadata": {},
   "source": [
    "### Define Custom Metrics"
   ]
  },
  {
   "cell_type": "code",
   "execution_count": 26,
   "id": "bb91193b",
   "metadata": {},
   "outputs": [],
   "source": [
    "def recall_m(y_true, y_pred):\n",
    "    true_positives = K.sum(K.round(K.clip(y_true * y_pred, 0, 1)))\n",
    "    possible_positives = K.sum(K.round(K.clip(y_true, 0, 1)))\n",
    "    recall = true_positives / (possible_positives + K.epsilon())\n",
    "    return recall\n",
    "\n",
    "def precision_m(y_true, y_pred):\n",
    "    true_positives = K.sum(K.round(K.clip(y_true * y_pred, 0, 1)))\n",
    "    predicted_positives = K.sum(K.round(K.clip(y_pred, 0, 1)))\n",
    "    precision = true_positives / (predicted_positives + K.epsilon())\n",
    "    return precision\n",
    "\n",
    "def f1_m(y_true, y_pred):\n",
    "    precision = precision_m(y_true, y_pred)\n",
    "    recall = recall_m(y_true, y_pred)\n",
    "    return 2*((precision*recall)/(precision+recall+K.epsilon()))"
   ]
  },
  {
   "cell_type": "markdown",
   "id": "bbfb2af6",
   "metadata": {},
   "source": [
    "### Derive balancing weight values\n",
    "Due to the datasets slight unbalanced nature, we would need to add class weights in order to eliminate bias towards the class that holds the highest volumen of data"
   ]
  },
  {
   "cell_type": "code",
   "execution_count": 27,
   "id": "9b98896f",
   "metadata": {},
   "outputs": [
    {
     "data": {
      "text/plain": [
       "pandas.core.series.Series"
      ]
     },
     "execution_count": 27,
     "metadata": {},
     "output_type": "execute_result"
    }
   ],
   "source": [
    "type(y0_train)"
   ]
  },
  {
   "cell_type": "code",
   "execution_count": 28,
   "id": "c7def003",
   "metadata": {},
   "outputs": [],
   "source": [
    "y0_train_emb = np.array(y0_train)"
   ]
  },
  {
   "cell_type": "code",
   "execution_count": 29,
   "id": "c539469f",
   "metadata": {},
   "outputs": [],
   "source": [
    "from sklearn.utils.class_weight import compute_class_weight"
   ]
  },
  {
   "cell_type": "code",
   "execution_count": 30,
   "id": "0030fe9b",
   "metadata": {},
   "outputs": [],
   "source": [
    "class_weights = compute_class_weight('balanced', classes=np.unique(y0_train_emb), y=y0_train_emb)\n",
    "class_weight_dict = dict(enumerate(class_weights))"
   ]
  },
  {
   "cell_type": "code",
   "execution_count": 31,
   "id": "ed1ff4ec",
   "metadata": {},
   "outputs": [
    {
     "data": {
      "text/plain": [
       "{0: 1.0027472527472527, 1: 1.0032065964269354, 2: 0.994098955969133}"
      ]
     },
     "execution_count": 31,
     "metadata": {},
     "output_type": "execute_result"
    }
   ],
   "source": [
    "class_weight_dict"
   ]
  },
  {
   "cell_type": "markdown",
   "id": "ff8bc52a",
   "metadata": {},
   "source": [
    "### Creating the attention layer"
   ]
  },
  {
   "cell_type": "code",
   "execution_count": 7,
   "id": "b45e1eb2",
   "metadata": {},
   "outputs": [],
   "source": [
    "class MyAttention(tf.keras.layers.Layer):\n",
    "    def __init__(self, units):\n",
    "        \"\"\"\n",
    "        Initialize the MyAttention layer.\n",
    "\n",
    "        Args:\n",
    "            units (int): The number of units for the attention mechanism.\n",
    "        \"\"\"\n",
    "        super(MyAttention, self).__init__()\n",
    "        self.units = units\n",
    "        \n",
    "        # Define three dense layers for weight calculations\n",
    "        self.dense1 = tf.keras.layers.Dense(units)\n",
    "        self.dense2 = tf.keras.layers.Dense(units)\n",
    "        self.dense3 = tf.keras.layers.Dense(1)\n",
    "        \n",
    "    def call(self, features, hidden):\n",
    "        \"\"\"\n",
    "        Perform the forward pass of the MyAttention layer.\n",
    "\n",
    "        Args:\n",
    "            features (tf.Tensor): The input features.\n",
    "            hidden (tf.Tensor): The hidden state.\n",
    "\n",
    "        Returns:\n",
    "            contxt_vector (tf.Tensor): The context vector.\n",
    "            att_weights (tf.Tensor): The attention weights.\n",
    "        \"\"\"\n",
    "        # Expand the dimensions of the hidden state\n",
    "        hidden_timeA = tf.expand_dims(hidden, 1)\n",
    "        \n",
    "        # Calculate the attention score using tanh activation\n",
    "        score = tf.nn.tanh(self.dense1(features) + self.dense2(hidden_timeA))\n",
    "        \n",
    "        # Apply softmax to obtain attention weights\n",
    "        att_weights = tf.nn.softmax(self.dense3(score), axis=1)\n",
    "        \n",
    "        # Calculate the context vector by element-wise multiplication\n",
    "        contxt_vector = att_weights * features\n",
    "        # Sum the context vector along axis 1\n",
    "        contxt_vector = tf.reduce_sum(contxt_vector, axis=1)\n",
    "\n",
    "        # Return the context vector and attention weights\n",
    "        return contxt_vector, att_weights\n",
    "\n",
    "    def get_config(self):\n",
    "        config = super(MyAttention, self).get_config()\n",
    "        config.update({'units': self.units})\n",
    "        return config"
   ]
  },
  {
   "cell_type": "markdown",
   "id": "42aa9f67",
   "metadata": {},
   "source": [
    "## Build Model & Hyper Parameter Tuning Helper Fucntion"
   ]
  },
  {
   "cell_type": "markdown",
   "id": "cef723fe",
   "metadata": {},
   "source": [
    "Split dataset AGAIN"
   ]
  },
  {
   "cell_type": "code",
   "execution_count": 34,
   "id": "1de3b9b5",
   "metadata": {},
   "outputs": [],
   "source": [
    "X1_train_emb, X1_val_emb, y1_train_OHE, y1_val_OHE =  train_test_split(X0_train_emb, y0_train_OHE, test_size = 0.25, random_state = 42)"
   ]
  },
  {
   "cell_type": "markdown",
   "id": "97a8dec9",
   "metadata": {},
   "source": [
    "#### Save model in folder"
   ]
  },
  {
   "cell_type": "code",
   "execution_count": 37,
   "id": "8f9f35c8",
   "metadata": {},
   "outputs": [],
   "source": [
    "lstm_nn_path = os.path.join(current_dir, 'Model/Saved_Hyp_Bi_ATT_2_model')\n",
    "\n",
    "monitor_acc = 'val_acc'\n",
    "monitor_auc = 'val_AUC'\n",
    "checkpointer = ModelCheckpoint(filepath=lstm_nn_path,\n",
    "                               verbose=1,\n",
    "                               monitor=monitor_auc,\n",
    "                               mode='max',\n",
    "                               save_best_only=True)\n",
    "\n",
    "early_stopping = EarlyStopping(monitor=monitor_auc,\n",
    "                               patience=5,\n",
    "                               mode='max',\n",
    "                               restore_best_weights=True)"
   ]
  },
  {
   "cell_type": "markdown",
   "id": "b2d40aab",
   "metadata": {},
   "source": [
    "### Begin Hyper-Param Tuning "
   ]
  },
  {
   "cell_type": "code",
   "execution_count": 40,
   "id": "d95d25fc",
   "metadata": {},
   "outputs": [
    {
     "name": "stdout",
     "output_type": "stream",
     "text": [
      "Trial 30 Complete [00h 16m 20s]\n",
      "val_AUC: 0.9477589130401611\n",
      "\n",
      "Best val_AUC So Far: 0.9484665393829346\n",
      "Total elapsed time: 02h 34m 40s\n"
     ]
    }
   ],
   "source": [
    "import tensorflow as tf\n",
    "import kerastuner as kt\n",
    "from tensorflow.keras.layers import Input, Embedding, Bidirectional, LSTM, Dense, Dropout, Concatenate\n",
    "from tensorflow.keras.models import Model\n",
    "import numpy as np\n",
    "\n",
    "\n",
    "# Define Hyperparameter Search Space\n",
    "hp = kt.HyperParameters()\n",
    "hp.Float('learning_rate', min_value=1e-4, max_value=1e-2, sampling='log')\n",
    "hp.Int('lstm_units', min_value=32, max_value=256, step=32)\n",
    "hp.Float('dropout', min_value=0.0, max_value=0.5, step=0.1)\n",
    "hp.Int('num_lstm_layers', min_value=1, max_value=3, step=1)  # Number of LSTM layers\n",
    "hp.Int('batch_size', min_value=32, max_value=128, step=32)  # Batch size\n",
    "hp.Int('attention_units', min_value=10, max_value=50, step=10)  # Attention units\n",
    "\n",
    "# Define Model-Building Function\n",
    "def build_model(hp):\n",
    "    sequence_input = Input(shape=(X0_train_emb.shape[1],), dtype=\"int32\")\n",
    "    embedded_sequences = Embedding(vocab_size, embedding_dim, weights=[embedding_matrix], trainable=False)(sequence_input)\n",
    "\n",
    "    # Create LSTM layers based on the hyperparameter 'num_lstm_layers'\n",
    "    lstm_layers = []\n",
    "    for _ in range(hp.Int('num_lstm_layers', min_value=1, max_value=3, step=1)):\n",
    "        lstm = Bidirectional(LSTM(hp.Int('lstm_units', min_value=32, max_value=256, step=32), return_sequences=True))(embedded_sequences)\n",
    "        lstm_layers.append(lstm)\n",
    "    \n",
    "    # Concatenate LSTM layers if there are multiple\n",
    "    if len(lstm_layers) > 1:\n",
    "        lstm = Concatenate()(lstm_layers)\n",
    "    else:\n",
    "        lstm = lstm_layers[0]\n",
    "\n",
    "    (lstm, f_hidden, f_cell, b_hidden, b_cell) = Bidirectional(LSTM(32, return_sequences=True, return_state=True), name=\"biDir_1\")(lstm)\n",
    "    \n",
    "    # We concatenate the forward and backward hidden states (`f_hidden` and `b_hidden`) as well as the cell states respectively.\n",
    "    # This concatenation combines information from both directions of the sequence.\n",
    "    s_hidden = Concatenate()([f_hidden, b_hidden])\n",
    "    s_cell = Concatenate()([f_cell, b_cell])\n",
    "    # We apply an attention mechanism to the LSTM output `lstm` and the concatenated states.\n",
    "    #The attention mechanism calculates a context vector and attention weights for each time step in the sequence.\n",
    "    contxt_vector, att_weights = MyAttention(hp.Int('attention_units', min_value=10, max_value=50, step=10))(lstm, s_hidden)\n",
    "\n",
    "    # Dense Layers and Model Compilation\n",
    "    # We pass the contxt_vector through a dense layer with ReLU activation.\n",
    "    dense1 = Dense(20, activation=\"relu\")(contxt_vector)\n",
    "    # Dropout reg applied to reduce overfitting.\n",
    "    dropout = Dropout(hp.Float('dropout', min_value=0.0, max_value=0.5, step=0.1))(dense1)\n",
    "    # Final softmax activation dense layer which generates the output probabilities.\n",
    "    output = Dense(3, activation=\"softmax\")(dropout)\n",
    "\n",
    "    model = Model(inputs=sequence_input, outputs=output)\n",
    "    \n",
    "    # The model is compiled with an Adam optimizer, categorical cross-entropy loss,along with AUC, f1, precision, and recall evaluation metrics\n",
    "    model.compile(\n",
    "        optimizer=tf.keras.optimizers.Adam(learning_rate=hp.Float('learning_rate', min_value=1e-4, max_value=1e-2, sampling='log')),\n",
    "        loss='categorical_crossentropy',\n",
    "        metrics=['acc', keras.metrics.AUC(name='AUC'), f1_m,precision_m, recall_m]\n",
    "    )\n",
    "    return model\n",
    "\n",
    "# Define a Keras Tuner Object \n",
    "tuner = kt.Hyperband(build_model,\n",
    "                     objective='val_AUC',\n",
    "                     max_epochs=25,\n",
    "                     factor=3,\n",
    "                     directory='my_dir',\n",
    "                     project_name='Bi_ATT_3_Model')\n",
    "\n",
    "# Perform Hyperparameter Search\n",
    "tuner.search(x=X1_train_emb,\n",
    "             y= y1_train_OHE,\n",
    "             epochs=25,\n",
    "             batch_size=hp.Int('batch_size', min_value=32, max_value=128, step=32),  # Batch size\n",
    "             validation_data=(X1_val_emb, y1_val_OHE), \n",
    "             callbacks=[tf.keras.callbacks.EarlyStopping(patience=5)])\n",
    "\n",
    "# Retrieve the Best Model\n",
    "best_hps = tuner.get_best_hyperparameters(num_trials=1)[0]\n",
    "best_model = tuner.hypermodel.build(best_hps)"
   ]
  },
  {
   "cell_type": "code",
   "execution_count": 41,
   "id": "9d99f02c",
   "metadata": {},
   "outputs": [
    {
     "data": {
      "text/plain": [
       "<keras.src.engine.functional.Functional at 0x7fd26b20fa10>"
      ]
     },
     "execution_count": 41,
     "metadata": {},
     "output_type": "execute_result"
    }
   ],
   "source": [
    "best_model"
   ]
  },
  {
   "cell_type": "code",
   "execution_count": 42,
   "id": "945b7f12",
   "metadata": {},
   "outputs": [
    {
     "name": "stdout",
     "output_type": "stream",
     "text": [
      "num_lstm_layers: 3\n",
      "lstm_units: 160\n",
      "attention_units: 10\n",
      "dropout: 0.2\n",
      "learning_rate: 0.0036965286941307712\n",
      "tuner/epochs: 9\n",
      "tuner/initial_epoch: 0\n",
      "tuner/bracket: 1\n",
      "tuner/round: 0\n"
     ]
    }
   ],
   "source": [
    "for key,value in best_hps.values.items():\n",
    "    print(f\"{key}: {value}\")"
   ]
  },
  {
   "cell_type": "markdown",
   "id": "e835e76e",
   "metadata": {},
   "source": [
    "Optimal model parameters are defined above, we will begin training a fresh model based on these hyper parameters."
   ]
  },
  {
   "cell_type": "code",
   "execution_count": 44,
   "id": "f6946e57",
   "metadata": {},
   "outputs": [
    {
     "name": "stdout",
     "output_type": "stream",
     "text": [
      "Epoch 1/9\n",
      "WARNING:tensorflow:Detecting that an object or model or tf.train.Checkpoint is being deleted with unrestored values. See the following logs for the specific values in question. To silence these warnings, use `status.expect_partial()`. See https://www.tensorflow.org/api_docs/python/tf/train/Checkpoint#restorefor details about the status object returned by the restore function.\n"
     ]
    },
    {
     "name": "stderr",
     "output_type": "stream",
     "text": [
      "WARNING:tensorflow:Detecting that an object or model or tf.train.Checkpoint is being deleted with unrestored values. See the following logs for the specific values in question. To silence these warnings, use `status.expect_partial()`. See https://www.tensorflow.org/api_docs/python/tf/train/Checkpoint#restorefor details about the status object returned by the restore function.\n"
     ]
    },
    {
     "name": "stdout",
     "output_type": "stream",
     "text": [
      "WARNING:tensorflow:Value in checkpoint could not be found in the restored object: (root).optimizer._variables.1\n"
     ]
    },
    {
     "name": "stderr",
     "output_type": "stream",
     "text": [
      "WARNING:tensorflow:Value in checkpoint could not be found in the restored object: (root).optimizer._variables.1\n"
     ]
    },
    {
     "name": "stdout",
     "output_type": "stream",
     "text": [
      "WARNING:tensorflow:Value in checkpoint could not be found in the restored object: (root).optimizer._variables.2\n"
     ]
    },
    {
     "name": "stderr",
     "output_type": "stream",
     "text": [
      "WARNING:tensorflow:Value in checkpoint could not be found in the restored object: (root).optimizer._variables.2\n"
     ]
    },
    {
     "name": "stdout",
     "output_type": "stream",
     "text": [
      "WARNING:tensorflow:Value in checkpoint could not be found in the restored object: (root).optimizer._variables.3\n"
     ]
    },
    {
     "name": "stderr",
     "output_type": "stream",
     "text": [
      "WARNING:tensorflow:Value in checkpoint could not be found in the restored object: (root).optimizer._variables.3\n"
     ]
    },
    {
     "name": "stdout",
     "output_type": "stream",
     "text": [
      "WARNING:tensorflow:Value in checkpoint could not be found in the restored object: (root).optimizer._variables.4\n"
     ]
    },
    {
     "name": "stderr",
     "output_type": "stream",
     "text": [
      "WARNING:tensorflow:Value in checkpoint could not be found in the restored object: (root).optimizer._variables.4\n"
     ]
    },
    {
     "name": "stdout",
     "output_type": "stream",
     "text": [
      "WARNING:tensorflow:Value in checkpoint could not be found in the restored object: (root).optimizer._variables.5\n"
     ]
    },
    {
     "name": "stderr",
     "output_type": "stream",
     "text": [
      "WARNING:tensorflow:Value in checkpoint could not be found in the restored object: (root).optimizer._variables.5\n"
     ]
    },
    {
     "name": "stdout",
     "output_type": "stream",
     "text": [
      "WARNING:tensorflow:Value in checkpoint could not be found in the restored object: (root).optimizer._variables.6\n"
     ]
    },
    {
     "name": "stderr",
     "output_type": "stream",
     "text": [
      "WARNING:tensorflow:Value in checkpoint could not be found in the restored object: (root).optimizer._variables.6\n"
     ]
    },
    {
     "name": "stdout",
     "output_type": "stream",
     "text": [
      "WARNING:tensorflow:Value in checkpoint could not be found in the restored object: (root).optimizer._variables.7\n"
     ]
    },
    {
     "name": "stderr",
     "output_type": "stream",
     "text": [
      "WARNING:tensorflow:Value in checkpoint could not be found in the restored object: (root).optimizer._variables.7\n"
     ]
    },
    {
     "name": "stdout",
     "output_type": "stream",
     "text": [
      "WARNING:tensorflow:Value in checkpoint could not be found in the restored object: (root).optimizer._variables.8\n"
     ]
    },
    {
     "name": "stderr",
     "output_type": "stream",
     "text": [
      "WARNING:tensorflow:Value in checkpoint could not be found in the restored object: (root).optimizer._variables.8\n"
     ]
    },
    {
     "name": "stdout",
     "output_type": "stream",
     "text": [
      "WARNING:tensorflow:Value in checkpoint could not be found in the restored object: (root).optimizer._variables.9\n"
     ]
    },
    {
     "name": "stderr",
     "output_type": "stream",
     "text": [
      "WARNING:tensorflow:Value in checkpoint could not be found in the restored object: (root).optimizer._variables.9\n"
     ]
    },
    {
     "name": "stdout",
     "output_type": "stream",
     "text": [
      "WARNING:tensorflow:Value in checkpoint could not be found in the restored object: (root).optimizer._variables.10\n"
     ]
    },
    {
     "name": "stderr",
     "output_type": "stream",
     "text": [
      "WARNING:tensorflow:Value in checkpoint could not be found in the restored object: (root).optimizer._variables.10\n"
     ]
    },
    {
     "name": "stdout",
     "output_type": "stream",
     "text": [
      "WARNING:tensorflow:Value in checkpoint could not be found in the restored object: (root).optimizer._variables.11\n"
     ]
    },
    {
     "name": "stderr",
     "output_type": "stream",
     "text": [
      "WARNING:tensorflow:Value in checkpoint could not be found in the restored object: (root).optimizer._variables.11\n"
     ]
    },
    {
     "name": "stdout",
     "output_type": "stream",
     "text": [
      "WARNING:tensorflow:Value in checkpoint could not be found in the restored object: (root).optimizer._variables.12\n"
     ]
    },
    {
     "name": "stderr",
     "output_type": "stream",
     "text": [
      "WARNING:tensorflow:Value in checkpoint could not be found in the restored object: (root).optimizer._variables.12\n"
     ]
    },
    {
     "name": "stdout",
     "output_type": "stream",
     "text": [
      "WARNING:tensorflow:Value in checkpoint could not be found in the restored object: (root).optimizer._variables.13\n"
     ]
    },
    {
     "name": "stderr",
     "output_type": "stream",
     "text": [
      "WARNING:tensorflow:Value in checkpoint could not be found in the restored object: (root).optimizer._variables.13\n"
     ]
    },
    {
     "name": "stdout",
     "output_type": "stream",
     "text": [
      "WARNING:tensorflow:Value in checkpoint could not be found in the restored object: (root).optimizer._variables.14\n"
     ]
    },
    {
     "name": "stderr",
     "output_type": "stream",
     "text": [
      "WARNING:tensorflow:Value in checkpoint could not be found in the restored object: (root).optimizer._variables.14\n"
     ]
    },
    {
     "name": "stdout",
     "output_type": "stream",
     "text": [
      "WARNING:tensorflow:Value in checkpoint could not be found in the restored object: (root).optimizer._variables.15\n"
     ]
    },
    {
     "name": "stderr",
     "output_type": "stream",
     "text": [
      "WARNING:tensorflow:Value in checkpoint could not be found in the restored object: (root).optimizer._variables.15\n"
     ]
    },
    {
     "name": "stdout",
     "output_type": "stream",
     "text": [
      "WARNING:tensorflow:Value in checkpoint could not be found in the restored object: (root).optimizer._variables.16\n"
     ]
    },
    {
     "name": "stderr",
     "output_type": "stream",
     "text": [
      "WARNING:tensorflow:Value in checkpoint could not be found in the restored object: (root).optimizer._variables.16\n"
     ]
    },
    {
     "name": "stdout",
     "output_type": "stream",
     "text": [
      "WARNING:tensorflow:Value in checkpoint could not be found in the restored object: (root).optimizer._variables.17\n"
     ]
    },
    {
     "name": "stderr",
     "output_type": "stream",
     "text": [
      "WARNING:tensorflow:Value in checkpoint could not be found in the restored object: (root).optimizer._variables.17\n"
     ]
    },
    {
     "name": "stdout",
     "output_type": "stream",
     "text": [
      "WARNING:tensorflow:Value in checkpoint could not be found in the restored object: (root).optimizer._variables.18\n"
     ]
    },
    {
     "name": "stderr",
     "output_type": "stream",
     "text": [
      "WARNING:tensorflow:Value in checkpoint could not be found in the restored object: (root).optimizer._variables.18\n"
     ]
    },
    {
     "name": "stdout",
     "output_type": "stream",
     "text": [
      "WARNING:tensorflow:Value in checkpoint could not be found in the restored object: (root).optimizer._variables.19\n"
     ]
    },
    {
     "name": "stderr",
     "output_type": "stream",
     "text": [
      "WARNING:tensorflow:Value in checkpoint could not be found in the restored object: (root).optimizer._variables.19\n"
     ]
    },
    {
     "name": "stdout",
     "output_type": "stream",
     "text": [
      "WARNING:tensorflow:Value in checkpoint could not be found in the restored object: (root).optimizer._variables.20\n"
     ]
    },
    {
     "name": "stderr",
     "output_type": "stream",
     "text": [
      "WARNING:tensorflow:Value in checkpoint could not be found in the restored object: (root).optimizer._variables.20\n"
     ]
    },
    {
     "name": "stdout",
     "output_type": "stream",
     "text": [
      "WARNING:tensorflow:Value in checkpoint could not be found in the restored object: (root).optimizer._variables.21\n"
     ]
    },
    {
     "name": "stderr",
     "output_type": "stream",
     "text": [
      "WARNING:tensorflow:Value in checkpoint could not be found in the restored object: (root).optimizer._variables.21\n"
     ]
    },
    {
     "name": "stdout",
     "output_type": "stream",
     "text": [
      "WARNING:tensorflow:Value in checkpoint could not be found in the restored object: (root).optimizer._variables.22\n"
     ]
    },
    {
     "name": "stderr",
     "output_type": "stream",
     "text": [
      "WARNING:tensorflow:Value in checkpoint could not be found in the restored object: (root).optimizer._variables.22\n"
     ]
    },
    {
     "name": "stdout",
     "output_type": "stream",
     "text": [
      "WARNING:tensorflow:Value in checkpoint could not be found in the restored object: (root).optimizer._variables.23\n"
     ]
    },
    {
     "name": "stderr",
     "output_type": "stream",
     "text": [
      "WARNING:tensorflow:Value in checkpoint could not be found in the restored object: (root).optimizer._variables.23\n"
     ]
    },
    {
     "name": "stdout",
     "output_type": "stream",
     "text": [
      "WARNING:tensorflow:Value in checkpoint could not be found in the restored object: (root).optimizer._variables.24\n"
     ]
    },
    {
     "name": "stderr",
     "output_type": "stream",
     "text": [
      "WARNING:tensorflow:Value in checkpoint could not be found in the restored object: (root).optimizer._variables.24\n"
     ]
    },
    {
     "name": "stdout",
     "output_type": "stream",
     "text": [
      "WARNING:tensorflow:Value in checkpoint could not be found in the restored object: (root).optimizer._variables.25\n"
     ]
    },
    {
     "name": "stderr",
     "output_type": "stream",
     "text": [
      "WARNING:tensorflow:Value in checkpoint could not be found in the restored object: (root).optimizer._variables.25\n"
     ]
    },
    {
     "name": "stdout",
     "output_type": "stream",
     "text": [
      "WARNING:tensorflow:Value in checkpoint could not be found in the restored object: (root).optimizer._variables.26\n"
     ]
    },
    {
     "name": "stderr",
     "output_type": "stream",
     "text": [
      "WARNING:tensorflow:Value in checkpoint could not be found in the restored object: (root).optimizer._variables.26\n"
     ]
    },
    {
     "name": "stdout",
     "output_type": "stream",
     "text": [
      "WARNING:tensorflow:Value in checkpoint could not be found in the restored object: (root).optimizer._variables.27\n"
     ]
    },
    {
     "name": "stderr",
     "output_type": "stream",
     "text": [
      "WARNING:tensorflow:Value in checkpoint could not be found in the restored object: (root).optimizer._variables.27\n"
     ]
    },
    {
     "name": "stdout",
     "output_type": "stream",
     "text": [
      "WARNING:tensorflow:Value in checkpoint could not be found in the restored object: (root).optimizer._variables.28\n"
     ]
    },
    {
     "name": "stderr",
     "output_type": "stream",
     "text": [
      "WARNING:tensorflow:Value in checkpoint could not be found in the restored object: (root).optimizer._variables.28\n"
     ]
    },
    {
     "name": "stdout",
     "output_type": "stream",
     "text": [
      "WARNING:tensorflow:Value in checkpoint could not be found in the restored object: (root).optimizer._variables.29\n"
     ]
    },
    {
     "name": "stderr",
     "output_type": "stream",
     "text": [
      "WARNING:tensorflow:Value in checkpoint could not be found in the restored object: (root).optimizer._variables.29\n"
     ]
    },
    {
     "name": "stdout",
     "output_type": "stream",
     "text": [
      "WARNING:tensorflow:Value in checkpoint could not be found in the restored object: (root).optimizer._variables.30\n"
     ]
    },
    {
     "name": "stderr",
     "output_type": "stream",
     "text": [
      "WARNING:tensorflow:Value in checkpoint could not be found in the restored object: (root).optimizer._variables.30\n"
     ]
    },
    {
     "name": "stdout",
     "output_type": "stream",
     "text": [
      "WARNING:tensorflow:Value in checkpoint could not be found in the restored object: (root).optimizer._variables.31\n"
     ]
    },
    {
     "name": "stderr",
     "output_type": "stream",
     "text": [
      "WARNING:tensorflow:Value in checkpoint could not be found in the restored object: (root).optimizer._variables.31\n"
     ]
    },
    {
     "name": "stdout",
     "output_type": "stream",
     "text": [
      "WARNING:tensorflow:Value in checkpoint could not be found in the restored object: (root).optimizer._variables.32\n"
     ]
    },
    {
     "name": "stderr",
     "output_type": "stream",
     "text": [
      "WARNING:tensorflow:Value in checkpoint could not be found in the restored object: (root).optimizer._variables.32\n"
     ]
    },
    {
     "name": "stdout",
     "output_type": "stream",
     "text": [
      "WARNING:tensorflow:Value in checkpoint could not be found in the restored object: (root).optimizer._variables.33\n"
     ]
    },
    {
     "name": "stderr",
     "output_type": "stream",
     "text": [
      "WARNING:tensorflow:Value in checkpoint could not be found in the restored object: (root).optimizer._variables.33\n"
     ]
    },
    {
     "name": "stdout",
     "output_type": "stream",
     "text": [
      "WARNING:tensorflow:Value in checkpoint could not be found in the restored object: (root).optimizer._variables.34\n"
     ]
    },
    {
     "name": "stderr",
     "output_type": "stream",
     "text": [
      "WARNING:tensorflow:Value in checkpoint could not be found in the restored object: (root).optimizer._variables.34\n"
     ]
    },
    {
     "name": "stdout",
     "output_type": "stream",
     "text": [
      "WARNING:tensorflow:Value in checkpoint could not be found in the restored object: (root).optimizer._variables.35\n"
     ]
    },
    {
     "name": "stderr",
     "output_type": "stream",
     "text": [
      "WARNING:tensorflow:Value in checkpoint could not be found in the restored object: (root).optimizer._variables.35\n"
     ]
    },
    {
     "name": "stdout",
     "output_type": "stream",
     "text": [
      "WARNING:tensorflow:Value in checkpoint could not be found in the restored object: (root).optimizer._variables.36\n"
     ]
    },
    {
     "name": "stderr",
     "output_type": "stream",
     "text": [
      "WARNING:tensorflow:Value in checkpoint could not be found in the restored object: (root).optimizer._variables.36\n"
     ]
    },
    {
     "name": "stdout",
     "output_type": "stream",
     "text": [
      "WARNING:tensorflow:Value in checkpoint could not be found in the restored object: (root).optimizer._variables.37\n"
     ]
    },
    {
     "name": "stderr",
     "output_type": "stream",
     "text": [
      "WARNING:tensorflow:Value in checkpoint could not be found in the restored object: (root).optimizer._variables.37\n"
     ]
    },
    {
     "name": "stdout",
     "output_type": "stream",
     "text": [
      "WARNING:tensorflow:Value in checkpoint could not be found in the restored object: (root).optimizer._variables.38\n"
     ]
    },
    {
     "name": "stderr",
     "output_type": "stream",
     "text": [
      "WARNING:tensorflow:Value in checkpoint could not be found in the restored object: (root).optimizer._variables.38\n"
     ]
    },
    {
     "name": "stdout",
     "output_type": "stream",
     "text": [
      "WARNING:tensorflow:Value in checkpoint could not be found in the restored object: (root).optimizer._variables.39\n"
     ]
    },
    {
     "name": "stderr",
     "output_type": "stream",
     "text": [
      "WARNING:tensorflow:Value in checkpoint could not be found in the restored object: (root).optimizer._variables.39\n"
     ]
    },
    {
     "name": "stdout",
     "output_type": "stream",
     "text": [
      "WARNING:tensorflow:Value in checkpoint could not be found in the restored object: (root).optimizer._variables.40\n"
     ]
    },
    {
     "name": "stderr",
     "output_type": "stream",
     "text": [
      "WARNING:tensorflow:Value in checkpoint could not be found in the restored object: (root).optimizer._variables.40\n"
     ]
    },
    {
     "name": "stdout",
     "output_type": "stream",
     "text": [
      "WARNING:tensorflow:Value in checkpoint could not be found in the restored object: (root).optimizer._variables.41\n"
     ]
    },
    {
     "name": "stderr",
     "output_type": "stream",
     "text": [
      "WARNING:tensorflow:Value in checkpoint could not be found in the restored object: (root).optimizer._variables.41\n"
     ]
    },
    {
     "name": "stdout",
     "output_type": "stream",
     "text": [
      "WARNING:tensorflow:Value in checkpoint could not be found in the restored object: (root).optimizer._variables.42\n"
     ]
    },
    {
     "name": "stderr",
     "output_type": "stream",
     "text": [
      "WARNING:tensorflow:Value in checkpoint could not be found in the restored object: (root).optimizer._variables.42\n"
     ]
    },
    {
     "name": "stdout",
     "output_type": "stream",
     "text": [
      "WARNING:tensorflow:Value in checkpoint could not be found in the restored object: (root).optimizer._variables.43\n"
     ]
    },
    {
     "name": "stderr",
     "output_type": "stream",
     "text": [
      "WARNING:tensorflow:Value in checkpoint could not be found in the restored object: (root).optimizer._variables.43\n"
     ]
    },
    {
     "name": "stdout",
     "output_type": "stream",
     "text": [
      "WARNING:tensorflow:Value in checkpoint could not be found in the restored object: (root).optimizer._variables.44\n"
     ]
    },
    {
     "name": "stderr",
     "output_type": "stream",
     "text": [
      "WARNING:tensorflow:Value in checkpoint could not be found in the restored object: (root).optimizer._variables.44\n"
     ]
    },
    {
     "name": "stdout",
     "output_type": "stream",
     "text": [
      "WARNING:tensorflow:Value in checkpoint could not be found in the restored object: (root).optimizer._variables.45\n"
     ]
    },
    {
     "name": "stderr",
     "output_type": "stream",
     "text": [
      "WARNING:tensorflow:Value in checkpoint could not be found in the restored object: (root).optimizer._variables.45\n"
     ]
    },
    {
     "name": "stdout",
     "output_type": "stream",
     "text": [
      "WARNING:tensorflow:Value in checkpoint could not be found in the restored object: (root).optimizer._variables.46\n"
     ]
    },
    {
     "name": "stderr",
     "output_type": "stream",
     "text": [
      "WARNING:tensorflow:Value in checkpoint could not be found in the restored object: (root).optimizer._variables.46\n"
     ]
    },
    {
     "name": "stdout",
     "output_type": "stream",
     "text": [
      "WARNING:tensorflow:Value in checkpoint could not be found in the restored object: (root).optimizer._variables.47\n"
     ]
    },
    {
     "name": "stderr",
     "output_type": "stream",
     "text": [
      "WARNING:tensorflow:Value in checkpoint could not be found in the restored object: (root).optimizer._variables.47\n"
     ]
    },
    {
     "name": "stdout",
     "output_type": "stream",
     "text": [
      "WARNING:tensorflow:Value in checkpoint could not be found in the restored object: (root).optimizer._variables.48\n"
     ]
    },
    {
     "name": "stderr",
     "output_type": "stream",
     "text": [
      "WARNING:tensorflow:Value in checkpoint could not be found in the restored object: (root).optimizer._variables.48\n"
     ]
    },
    {
     "name": "stdout",
     "output_type": "stream",
     "text": [
      "WARNING:tensorflow:Value in checkpoint could not be found in the restored object: (root).optimizer._variables.49\n"
     ]
    },
    {
     "name": "stderr",
     "output_type": "stream",
     "text": [
      "WARNING:tensorflow:Value in checkpoint could not be found in the restored object: (root).optimizer._variables.49\n"
     ]
    },
    {
     "name": "stdout",
     "output_type": "stream",
     "text": [
      "WARNING:tensorflow:Value in checkpoint could not be found in the restored object: (root).optimizer._variables.50\n"
     ]
    },
    {
     "name": "stderr",
     "output_type": "stream",
     "text": [
      "WARNING:tensorflow:Value in checkpoint could not be found in the restored object: (root).optimizer._variables.50\n"
     ]
    },
    {
     "name": "stdout",
     "output_type": "stream",
     "text": [
      "WARNING:tensorflow:Value in checkpoint could not be found in the restored object: (root).optimizer._variables.51\n"
     ]
    },
    {
     "name": "stderr",
     "output_type": "stream",
     "text": [
      "WARNING:tensorflow:Value in checkpoint could not be found in the restored object: (root).optimizer._variables.51\n"
     ]
    },
    {
     "name": "stdout",
     "output_type": "stream",
     "text": [
      "WARNING:tensorflow:Value in checkpoint could not be found in the restored object: (root).optimizer._variables.52\n"
     ]
    },
    {
     "name": "stderr",
     "output_type": "stream",
     "text": [
      "WARNING:tensorflow:Value in checkpoint could not be found in the restored object: (root).optimizer._variables.52\n"
     ]
    },
    {
     "name": "stdout",
     "output_type": "stream",
     "text": [
      "WARNING:tensorflow:Value in checkpoint could not be found in the restored object: (root).optimizer._variables.53\n"
     ]
    },
    {
     "name": "stderr",
     "output_type": "stream",
     "text": [
      "WARNING:tensorflow:Value in checkpoint could not be found in the restored object: (root).optimizer._variables.53\n"
     ]
    },
    {
     "name": "stdout",
     "output_type": "stream",
     "text": [
      "WARNING:tensorflow:Value in checkpoint could not be found in the restored object: (root).optimizer._variables.54\n"
     ]
    },
    {
     "name": "stderr",
     "output_type": "stream",
     "text": [
      "WARNING:tensorflow:Value in checkpoint could not be found in the restored object: (root).optimizer._variables.54\n"
     ]
    },
    {
     "name": "stdout",
     "output_type": "stream",
     "text": [
      "WARNING:tensorflow:Value in checkpoint could not be found in the restored object: (root).optimizer._variables.55\n"
     ]
    },
    {
     "name": "stderr",
     "output_type": "stream",
     "text": [
      "WARNING:tensorflow:Value in checkpoint could not be found in the restored object: (root).optimizer._variables.55\n"
     ]
    },
    {
     "name": "stdout",
     "output_type": "stream",
     "text": [
      "WARNING:tensorflow:Value in checkpoint could not be found in the restored object: (root).optimizer._variables.56\n"
     ]
    },
    {
     "name": "stderr",
     "output_type": "stream",
     "text": [
      "WARNING:tensorflow:Value in checkpoint could not be found in the restored object: (root).optimizer._variables.56\n"
     ]
    },
    {
     "name": "stdout",
     "output_type": "stream",
     "text": [
      "WARNING:tensorflow:Value in checkpoint could not be found in the restored object: (root).optimizer._variables.57\n"
     ]
    },
    {
     "name": "stderr",
     "output_type": "stream",
     "text": [
      "WARNING:tensorflow:Value in checkpoint could not be found in the restored object: (root).optimizer._variables.57\n"
     ]
    },
    {
     "name": "stdout",
     "output_type": "stream",
     "text": [
      "WARNING:tensorflow:Value in checkpoint could not be found in the restored object: (root).optimizer._variables.58\n"
     ]
    },
    {
     "name": "stderr",
     "output_type": "stream",
     "text": [
      "WARNING:tensorflow:Value in checkpoint could not be found in the restored object: (root).optimizer._variables.58\n"
     ]
    },
    {
     "name": "stdout",
     "output_type": "stream",
     "text": [
      "WARNING:tensorflow:Value in checkpoint could not be found in the restored object: (root).optimizer._variables.59\n"
     ]
    },
    {
     "name": "stderr",
     "output_type": "stream",
     "text": [
      "WARNING:tensorflow:Value in checkpoint could not be found in the restored object: (root).optimizer._variables.59\n"
     ]
    },
    {
     "name": "stdout",
     "output_type": "stream",
     "text": [
      "WARNING:tensorflow:Value in checkpoint could not be found in the restored object: (root).optimizer._variables.60\n"
     ]
    },
    {
     "name": "stderr",
     "output_type": "stream",
     "text": [
      "WARNING:tensorflow:Value in checkpoint could not be found in the restored object: (root).optimizer._variables.60\n"
     ]
    },
    {
     "name": "stdout",
     "output_type": "stream",
     "text": [
      "WARNING:tensorflow:Value in checkpoint could not be found in the restored object: (root).optimizer._variables.61\n"
     ]
    },
    {
     "name": "stderr",
     "output_type": "stream",
     "text": [
      "WARNING:tensorflow:Value in checkpoint could not be found in the restored object: (root).optimizer._variables.61\n"
     ]
    },
    {
     "name": "stdout",
     "output_type": "stream",
     "text": [
      "WARNING:tensorflow:Value in checkpoint could not be found in the restored object: (root).optimizer._variables.62\n"
     ]
    },
    {
     "name": "stderr",
     "output_type": "stream",
     "text": [
      "WARNING:tensorflow:Value in checkpoint could not be found in the restored object: (root).optimizer._variables.62\n"
     ]
    },
    {
     "name": "stdout",
     "output_type": "stream",
     "text": [
      "WARNING:tensorflow:Value in checkpoint could not be found in the restored object: (root).optimizer._variables.63\n"
     ]
    },
    {
     "name": "stderr",
     "output_type": "stream",
     "text": [
      "WARNING:tensorflow:Value in checkpoint could not be found in the restored object: (root).optimizer._variables.63\n"
     ]
    },
    {
     "name": "stdout",
     "output_type": "stream",
     "text": [
      "WARNING:tensorflow:Value in checkpoint could not be found in the restored object: (root).optimizer._variables.64\n"
     ]
    },
    {
     "name": "stderr",
     "output_type": "stream",
     "text": [
      "WARNING:tensorflow:Value in checkpoint could not be found in the restored object: (root).optimizer._variables.64\n"
     ]
    },
    {
     "name": "stdout",
     "output_type": "stream",
     "text": [
      "WARNING:tensorflow:Value in checkpoint could not be found in the restored object: (root).optimizer._variables.65\n"
     ]
    },
    {
     "name": "stderr",
     "output_type": "stream",
     "text": [
      "WARNING:tensorflow:Value in checkpoint could not be found in the restored object: (root).optimizer._variables.65\n"
     ]
    },
    {
     "name": "stdout",
     "output_type": "stream",
     "text": [
      "WARNING:tensorflow:Value in checkpoint could not be found in the restored object: (root).optimizer._variables.66\n"
     ]
    },
    {
     "name": "stderr",
     "output_type": "stream",
     "text": [
      "WARNING:tensorflow:Value in checkpoint could not be found in the restored object: (root).optimizer._variables.66\n"
     ]
    },
    {
     "name": "stdout",
     "output_type": "stream",
     "text": [
      "WARNING:tensorflow:Value in checkpoint could not be found in the restored object: (root).optimizer._variables.67\n"
     ]
    },
    {
     "name": "stderr",
     "output_type": "stream",
     "text": [
      "WARNING:tensorflow:Value in checkpoint could not be found in the restored object: (root).optimizer._variables.67\n"
     ]
    },
    {
     "name": "stdout",
     "output_type": "stream",
     "text": [
      "WARNING:tensorflow:Value in checkpoint could not be found in the restored object: (root).optimizer._variables.68\n"
     ]
    },
    {
     "name": "stderr",
     "output_type": "stream",
     "text": [
      "WARNING:tensorflow:Value in checkpoint could not be found in the restored object: (root).optimizer._variables.68\n"
     ]
    },
    {
     "name": "stdout",
     "output_type": "stream",
     "text": [
      "165/165 [==============================] - ETA: 0s - loss: 0.6804 - acc: 0.7062 - AUC: 0.8735 - f1_m: 0.6767 - precision_m: 0.7444 - recall_m: 0.6269\n",
      "Epoch 1: val_AUC improved from -inf to 0.92830, saving model to /home/paula/Downloads/Plug_n_Play/Model/Saved_Hyp_Bi_ATT_2_model\n",
      "INFO:tensorflow:Assets written to: /home/paula/Downloads/Plug_n_Play/Model/Saved_Hyp_Bi_ATT_2_model/assets\n"
     ]
    },
    {
     "name": "stderr",
     "output_type": "stream",
     "text": [
      "INFO:tensorflow:Assets written to: /home/paula/Downloads/Plug_n_Play/Model/Saved_Hyp_Bi_ATT_2_model/assets\n"
     ]
    },
    {
     "name": "stdout",
     "output_type": "stream",
     "text": [
      "165/165 [==============================] - 154s 892ms/step - loss: 0.6804 - acc: 0.7062 - AUC: 0.8735 - f1_m: 0.6767 - precision_m: 0.7444 - recall_m: 0.6269 - val_loss: 0.5184 - val_acc: 0.7900 - val_AUC: 0.9283 - val_f1_m: 0.7828 - val_precision_m: 0.8287 - val_recall_m: 0.7455\n",
      "Epoch 2/9\n",
      "165/165 [==============================] - ETA: 0s - loss: 0.4278 - acc: 0.8385 - AUC: 0.9500 - f1_m: 0.8343 - precision_m: 0.8557 - recall_m: 0.8146\n",
      "Epoch 2: val_AUC improved from 0.92830 to 0.92956, saving model to /home/paula/Downloads/Plug_n_Play/Model/Saved_Hyp_Bi_ATT_2_model\n",
      "INFO:tensorflow:Assets written to: /home/paula/Downloads/Plug_n_Play/Model/Saved_Hyp_Bi_ATT_2_model/assets\n"
     ]
    },
    {
     "name": "stderr",
     "output_type": "stream",
     "text": [
      "INFO:tensorflow:Assets written to: /home/paula/Downloads/Plug_n_Play/Model/Saved_Hyp_Bi_ATT_2_model/assets\n"
     ]
    },
    {
     "name": "stdout",
     "output_type": "stream",
     "text": [
      "165/165 [==============================] - 145s 877ms/step - loss: 0.4278 - acc: 0.8385 - AUC: 0.9500 - f1_m: 0.8343 - precision_m: 0.8557 - recall_m: 0.8146 - val_loss: 0.5188 - val_acc: 0.7968 - val_AUC: 0.9296 - val_f1_m: 0.7966 - val_precision_m: 0.8121 - val_recall_m: 0.7820\n",
      "Epoch 3/9\n",
      "165/165 [==============================] - ETA: 0s - loss: 0.2976 - acc: 0.8853 - AUC: 0.9753 - f1_m: 0.8834 - precision_m: 0.8941 - recall_m: 0.8733\n",
      "Epoch 3: val_AUC improved from 0.92956 to 0.94426, saving model to /home/paula/Downloads/Plug_n_Play/Model/Saved_Hyp_Bi_ATT_2_model\n",
      "INFO:tensorflow:Assets written to: /home/paula/Downloads/Plug_n_Play/Model/Saved_Hyp_Bi_ATT_2_model/assets\n"
     ]
    },
    {
     "name": "stderr",
     "output_type": "stream",
     "text": [
      "INFO:tensorflow:Assets written to: /home/paula/Downloads/Plug_n_Play/Model/Saved_Hyp_Bi_ATT_2_model/assets\n"
     ]
    },
    {
     "name": "stdout",
     "output_type": "stream",
     "text": [
      "165/165 [==============================] - 141s 854ms/step - loss: 0.2976 - acc: 0.8853 - AUC: 0.9753 - f1_m: 0.8834 - precision_m: 0.8941 - recall_m: 0.8733 - val_loss: 0.4739 - val_acc: 0.8204 - val_AUC: 0.9443 - val_f1_m: 0.8249 - val_precision_m: 0.8348 - val_recall_m: 0.8155\n",
      "Epoch 4/9\n",
      "165/165 [==============================] - ETA: 0s - loss: 0.2233 - acc: 0.9153 - AUC: 0.9858 - f1_m: 0.9165 - precision_m: 0.9224 - recall_m: 0.9108\n",
      "Epoch 4: val_AUC did not improve from 0.94426\n",
      "165/165 [==============================] - 127s 768ms/step - loss: 0.2233 - acc: 0.9153 - AUC: 0.9858 - f1_m: 0.9165 - precision_m: 0.9224 - recall_m: 0.9108 - val_loss: 0.5527 - val_acc: 0.7983 - val_AUC: 0.9378 - val_f1_m: 0.7920 - val_precision_m: 0.7985 - val_recall_m: 0.7857\n",
      "Epoch 5/9\n",
      "165/165 [==============================] - ETA: 0s - loss: 0.1757 - acc: 0.9395 - AUC: 0.9906 - f1_m: 0.9382 - precision_m: 0.9414 - recall_m: 0.9352\n",
      "Epoch 5: val_AUC did not improve from 0.94426\n",
      "165/165 [==============================] - 128s 777ms/step - loss: 0.1757 - acc: 0.9395 - AUC: 0.9906 - f1_m: 0.9382 - precision_m: 0.9414 - recall_m: 0.9352 - val_loss: 0.5956 - val_acc: 0.8052 - val_AUC: 0.9384 - val_f1_m: 0.8097 - val_precision_m: 0.8122 - val_recall_m: 0.8073\n",
      "Epoch 6/9\n",
      "165/165 [==============================] - ETA: 0s - loss: 0.1303 - acc: 0.9543 - AUC: 0.9944 - f1_m: 0.9536 - precision_m: 0.9572 - recall_m: 0.9502\n",
      "Epoch 6: val_AUC did not improve from 0.94426\n",
      "165/165 [==============================] - 127s 770ms/step - loss: 0.1303 - acc: 0.9543 - AUC: 0.9944 - f1_m: 0.9536 - precision_m: 0.9572 - recall_m: 0.9502 - val_loss: 0.6750 - val_acc: 0.8135 - val_AUC: 0.9293 - val_f1_m: 0.8051 - val_precision_m: 0.8066 - val_recall_m: 0.8036\n",
      "Epoch 7/9\n",
      "165/165 [==============================] - ETA: 0s - loss: 0.1006 - acc: 0.9637 - AUC: 0.9967 - f1_m: 0.9633 - precision_m: 0.9652 - recall_m: 0.9616\n",
      "Epoch 7: val_AUC did not improve from 0.94426\n",
      "165/165 [==============================] - 130s 789ms/step - loss: 0.1006 - acc: 0.9637 - AUC: 0.9967 - f1_m: 0.9633 - precision_m: 0.9652 - recall_m: 0.9616 - val_loss: 0.6426 - val_acc: 0.8295 - val_AUC: 0.9377 - val_f1_m: 0.8270 - val_precision_m: 0.8382 - val_recall_m: 0.8199\n"
     ]
    }
   ],
   "source": [
    "monitor_acc = 'val_acc'\n",
    "monitor_auc = 'val_AUC'\n",
    "checkpointer = ModelCheckpoint(filepath=lstm_nn_path,\n",
    "                               verbose=1,\n",
    "                               monitor=monitor_auc,\n",
    "                               mode='max',\n",
    "                               save_best_only=True)\n",
    "\n",
    "early_stopping = EarlyStopping(monitor=monitor_auc,\n",
    "                               patience=4,\n",
    "                               mode='max',\n",
    "                               restore_best_weights=True)\n",
    "\n",
    "\n",
    "tuned_hype_best_model = build_model(best_hps)\n",
    "tuned_hype_best_model_hist = tuned_hype_best_model.fit(X0_train_emb, \n",
    "                                                       y0_train_OHE,\n",
    "                                                       epochs=9,\n",
    "                                                       batch_size=32,\n",
    "                                                      validation_split=0.2,\n",
    "                                                      callbacks=[early_stopping, checkpointer])"
   ]
  },
  {
   "cell_type": "code",
   "execution_count": 49,
   "id": "8b9a875e",
   "metadata": {},
   "outputs": [
    {
     "name": "stdout",
     "output_type": "stream",
     "text": [
      "Epoch 1/4\n",
      "165/165 [==============================] - ETA: 0s - loss: 0.7752 - acc: 0.6433 - AUC: 0.8316 - f1_m: 0.5507 - precision_m: 0.7206 - recall_m: 0.4922\n",
      "Epoch 1: val_AUC did not improve from 0.94426\n",
      "165/165 [==============================] - 124s 712ms/step - loss: 0.7752 - acc: 0.6433 - AUC: 0.8316 - f1_m: 0.5507 - precision_m: 0.7206 - recall_m: 0.4922 - val_loss: 0.5439 - val_acc: 0.7740 - val_AUC: 0.9217 - val_f1_m: 0.7670 - val_precision_m: 0.7924 - val_recall_m: 0.7440\n",
      "Epoch 2/4\n",
      "165/165 [==============================] - ETA: 0s - loss: 0.4435 - acc: 0.8288 - AUC: 0.9466 - f1_m: 0.8247 - precision_m: 0.8459 - recall_m: 0.8051\n",
      "Epoch 2: val_AUC did not improve from 0.94426\n",
      "165/165 [==============================] - 116s 701ms/step - loss: 0.4435 - acc: 0.8288 - AUC: 0.9466 - f1_m: 0.8247 - precision_m: 0.8459 - recall_m: 0.8051 - val_loss: 0.4647 - val_acc: 0.8158 - val_AUC: 0.9417 - val_f1_m: 0.8040 - val_precision_m: 0.8297 - val_recall_m: 0.7805\n",
      "Epoch 3/4\n",
      "165/165 [==============================] - ETA: 0s - loss: 0.3019 - acc: 0.8923 - AUC: 0.9743 - f1_m: 0.8903 - precision_m: 0.9014 - recall_m: 0.8797\n",
      "Epoch 3: val_AUC did not improve from 0.94426\n",
      "165/165 [==============================] - 116s 700ms/step - loss: 0.3019 - acc: 0.8923 - AUC: 0.9743 - f1_m: 0.8903 - precision_m: 0.9014 - recall_m: 0.8797 - val_loss: 0.4995 - val_acc: 0.8196 - val_AUC: 0.9397 - val_f1_m: 0.8126 - val_precision_m: 0.8236 - val_recall_m: 0.8021\n",
      "Epoch 4/4\n",
      "165/165 [==============================] - ETA: 0s - loss: 0.2278 - acc: 0.9148 - AUC: 0.9847 - f1_m: 0.9146 - precision_m: 0.9213 - recall_m: 0.9081\n",
      "Epoch 4: val_AUC improved from 0.94426 to 0.94640, saving model to /home/paula/Downloads/Plug_n_Play/Model/Saved_Hyp_Bi_ATT_2_model\n",
      "INFO:tensorflow:Assets written to: /home/paula/Downloads/Plug_n_Play/Model/Saved_Hyp_Bi_ATT_2_model/assets\n"
     ]
    },
    {
     "name": "stderr",
     "output_type": "stream",
     "text": [
      "INFO:tensorflow:Assets written to: /home/paula/Downloads/Plug_n_Play/Model/Saved_Hyp_Bi_ATT_2_model/assets\n"
     ]
    },
    {
     "name": "stdout",
     "output_type": "stream",
     "text": [
      "\b\b\b\b\b\b\b\b\b\b\b\b\b\b\b\b\b\b\b\b\b\b\b\b\b\b\b\b\b\b\b\b\b\b\b\b\b\b\b\b\b\b\b\b\b\b\b\b\b\b\b\b\b\b\b\b\b\b\b\b\b\b\b\b\b\b\b\b\b\b\b\b\b\b\b\b\b\b\b\b\b\b\b\b\b\b\b\b\b\b\b\b\b\b\b\b\b\b\b\b\b\b\b\b\b\b\b\b\b\b\b\b\b\b\b\b\b\b\b\b\b\b\b\b\b\b\b\b\b\b\b\b\b\b\b\b\b\b\b\b\b\b\b\b\b\b\b\b\b\r",
      "165/165 [==============================] - 133s 804ms/step - loss: 0.2278 - acc: 0.9148 - AUC: 0.9847 - f1_m: 0.9146 - precision_m: 0.9213 - recall_m: 0.9081 - val_loss: 0.4669 - val_acc: 0.8234 - val_AUC: 0.9464 - val_f1_m: 0.8171 - val_precision_m: 0.8351 - val_recall_m: 0.8036\n"
     ]
    }
   ],
   "source": [
    "tuned_hype_best_model_optimized_1 = build_model(best_hps)\n",
    "tuned_hype_best_model_optimized_hist_1 = tuned_hype_best_model_optimized_1.fit(X0_train_emb, \n",
    "                                                       y0_train_OHE,\n",
    "                                                       epochs=4,\n",
    "                                                       batch_size=32,\n",
    "                                                      validation_split=0.2,\n",
    "                                                      callbacks=[early_stopping, checkpointer])"
   ]
  },
  {
   "cell_type": "code",
   "execution_count": 50,
   "id": "58e6ab23",
   "metadata": {},
   "outputs": [
    {
     "name": "stdout",
     "output_type": "stream",
     "text": [
      "69/69 [==============================] - 10s 152ms/step - loss: 0.4624 - acc: 0.8288 - AUC: 0.9485 - f1_m: 0.8308 - precision_m: 0.8377 - recall_m: 0.8242\n"
     ]
    },
    {
     "data": {
      "text/plain": [
       "[0.46237823367118835,\n",
       " 0.8288452625274658,\n",
       " 0.9485046863555908,\n",
       " 0.8307753205299377,\n",
       " 0.8377188444137573,\n",
       " 0.8242149949073792]"
      ]
     },
     "execution_count": 50,
     "metadata": {},
     "output_type": "execute_result"
    }
   ],
   "source": [
    "tuned_hype_best_model_optimized_1.evaluate(X0_test_emb, y0_test_OHE)"
   ]
  },
  {
   "cell_type": "code",
   "execution_count": 8,
   "id": "8b55eab8",
   "metadata": {},
   "outputs": [],
   "source": [
    "tuned_hype_best_model_optimized_1.summary()"
   ]
  },
  {
   "cell_type": "code",
   "execution_count": 55,
   "id": "3b029e30",
   "metadata": {},
   "outputs": [],
   "source": [
    "test = pd.DataFrame({\n",
    "    'title': [\"\"\" Oil giant Shell reports highest quarterly profit since 2008 on soaring commodity prices\"\"\"],\n",
    "    'article': [\"\"\"Oil giant Shell on Thursday reported its highest quarterly profit since 2008 on soaring commodity prices, fueling calls for a one-off windfall tax on oil and gas companies to help U.K. households with spiraling energy bills. Shell posted adjusted earnings of $9.1 billion for the three months through to the end of March, in line with expectations of analysts polled by Refinitiv. That compared with $3.2 billion over the same period a year earlier and $6.4 billion for the fourth quarter of 2021.\n",
    "\n",
    "The company also announced plans to increase its dividend by around 4% to $0.25 per share for the first quarter.\n",
    "\n",
    "Of the firm’s $8.5 billion share buyback program announced for the first half of the year, Shell said $4 billion had been completed to date. The remaining $4.5 billion share buybacks are scheduled to be completed before the announcement of second-quarter earnings.\n",
    "\n",
    "Shares of the company rose 3% on Thursday morning.\n",
    "\n",
    "Shell’s results echo bumper profits seen across the oil and gas industry, even as many energy majors incur costly write-downs from exiting Russia. U.K. rival BP on Tuesday announced plans to boost share buybacks after first-quarter net profit jumped to its highest level in more than a decade. France’s TotalEnergies, Norway’s Equinor and U.S. oil giants Chevron and Exxon Mobil also reported strong first-quarter profits on soaring commodity prices.\n",
    "\n",
    "Shell confirmed it had taken $3.9 billion of post-tax charges in the first quarter as a result of its exit from Russia. The company had previously warned it could write off between $4 billion and $5 billion in the value of its assets after pulling out of the country. The firm said these charges were not expected to impact adjusted earnings.\n",
    "\n",
    "“The war in Ukraine is first and foremost a human tragedy, but it has also caused significant disruption to global energy markets and has shown that secure, reliable and affordable energy simply cannot be taken for granted,” CEO Ben van Beurden said in a statement.\n",
    "\n",
    "“The impacts of this uncertainty and the higher cost that comes with it are being felt far and wide. We have been engaging with governments, our customers and suppliers to work through the challenging implications and provide support and solutions where we can.”\n",
    "\n",
    "Shell reported a sharp upswing in full-year profit in 2021 on rebounding oil and gas prices.\"\"\"\n",
    "] })\n",
    "\n"
   ]
  },
  {
   "cell_type": "markdown",
   "id": "77874221",
   "metadata": {},
   "source": [
    "We will attempt to load up the trained model."
   ]
  },
  {
   "cell_type": "code",
   "execution_count": 57,
   "id": "b64ab6ad",
   "metadata": {},
   "outputs": [],
   "source": [
    "def recall_m(y_true, y_pred):\n",
    "    true_positives = K.sum(K.round(K.clip(y_true * y_pred, 0, 1)))\n",
    "    possible_positives = K.sum(K.round(K.clip(y_true, 0, 1)))\n",
    "    recall = true_positives / (possible_positives + K.epsilon())\n",
    "    return recall\n",
    "\n",
    "def precision_m(y_true, y_pred):\n",
    "    true_positives = K.sum(K.round(K.clip(y_true * y_pred, 0, 1)))\n",
    "    predicted_positives = K.sum(K.round(K.clip(y_pred, 0, 1)))\n",
    "    precision = true_positives / (predicted_positives + K.epsilon())\n",
    "    return precision\n",
    "\n",
    "def f1_m(y_true, y_pred):\n",
    "    precision = precision_m(y_true, y_pred)\n",
    "    recall = recall_m(y_true, y_pred)\n",
    "    return 2*((precision*recall)/(precision+recall+K.epsilon()))\n",
    "\n",
    "custom_objects = {\n",
    "    'f1_m': f1_m,\n",
    "    'precision_m':precision_m,\n",
    "    'recall_m': recall_m,\n",
    "    'MyAttention': MyAttention\n",
    "}"
   ]
  },
  {
   "cell_type": "code",
   "execution_count": 58,
   "id": "17f00df0",
   "metadata": {},
   "outputs": [],
   "source": [
    "# Path to the saved model\n",
    "model_path = '/home/paula/Downloads/Plug_n_Play/Model/Saved_Hyp_Bi_ATT_2_model'\n",
    "\n",
    "# Load the saved model\n",
    "loaded_model = tf.keras.models.load_model(model_path, custom_objects=custom_objects)\n"
   ]
  },
  {
   "cell_type": "code",
   "execution_count": 9,
   "id": "958666c9",
   "metadata": {},
   "outputs": [],
   "source": [
    "loaded_model.summary()"
   ]
  },
  {
   "cell_type": "code",
   "execution_count": 60,
   "id": "f81acfef",
   "metadata": {},
   "outputs": [
    {
     "name": "stdout",
     "output_type": "stream",
     "text": [
      "69/69 [==============================] - 12s 150ms/step - loss: 0.4624 - acc: 0.8288 - AUC: 0.9485 - f1_m: 0.8308 - precision_m: 0.8377 - recall_m: 0.8242\n"
     ]
    },
    {
     "data": {
      "text/plain": [
       "[0.46237823367118835,\n",
       " 0.8288452625274658,\n",
       " 0.9485046863555908,\n",
       " 0.8307753205299377,\n",
       " 0.8377188444137573,\n",
       " 0.8242149949073792]"
      ]
     },
     "execution_count": 60,
     "metadata": {},
     "output_type": "execute_result"
    }
   ],
   "source": [
    "loaded_model.evaluate(X0_test_emb, y0_test_OHE)"
   ]
  },
  {
   "cell_type": "markdown",
   "id": "fb4cdbeb",
   "metadata": {},
   "source": [
    "Model is loaded and im confident in the results produced. "
   ]
  },
  {
   "cell_type": "code",
   "execution_count": null,
   "id": "5897798c",
   "metadata": {},
   "outputs": [],
   "source": []
  }
 ],
 "metadata": {
  "kernelspec": {
   "display_name": "Python 3 (ipykernel)",
   "language": "python",
   "name": "python3"
  },
  "language_info": {
   "codemirror_mode": {
    "name": "ipython",
    "version": 3
   },
   "file_extension": ".py",
   "mimetype": "text/x-python",
   "name": "python",
   "nbconvert_exporter": "python",
   "pygments_lexer": "ipython3",
   "version": "3.8.18"
  }
 },
 "nbformat": 4,
 "nbformat_minor": 5
}
